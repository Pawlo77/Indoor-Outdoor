{
 "cells": [
  {
   "cell_type": "markdown",
   "id": "8bbfc192",
   "metadata": {},
   "source": [
    "# Model Evaluation"
   ]
  },
  {
   "cell_type": "code",
   "execution_count": 1,
   "id": "908ae590",
   "metadata": {},
   "outputs": [
    {
     "name": "stdout",
     "output_type": "stream",
     "text": [
      "CUDA Available: True\n"
     ]
    }
   ],
   "source": [
    "import os\n",
    "import pandas as pd\n",
    "import torch\n",
    "from torchvision.datasets import ImageFolder\n",
    "from transformers import AutoModelForImageClassification, SiglipForImageClassification\n",
    "from tqdm.notebook import tqdm\n",
    "\n",
    "from src.transformers import test_transforms\n",
    "\n",
    "print(\"CUDA Available:\", torch.cuda.is_available())\n",
    "device = torch.device(\"cuda\" if torch.cuda.is_available() else \"cpu\")"
   ]
  },
  {
   "cell_type": "code",
   "execution_count": 2,
   "id": "5ab100cc",
   "metadata": {},
   "outputs": [],
   "source": [
    "# Define paths\n",
    "CHECKPOINT_DIR = \"checkpoints\"\n",
    "TEST_SET_DIR = \"test_set\"\n",
    "\n",
    "# Load test dataset\n",
    "test_ds = ImageFolder(TEST_SET_DIR, transform=test_transforms)"
   ]
  },
  {
   "cell_type": "code",
   "execution_count": 3,
   "id": "54ff9fc8",
   "metadata": {},
   "outputs": [],
   "source": [
    "MODELS = {\n",
    "    \"siglip2_other\": \"checkpoints/siglip2/other/model\",\n",
    "    \"siglip2_full\": \"checkpoints/siglip2/wit/model\",\n",
    "    \"mobilenet_other\": \"checkpoints/mobilenet/other/model\",\n",
    "    \"mobilenet_full\": \"checkpoints/mobilenet/wit/model\",\n",
    "}"
   ]
  },
  {
   "cell_type": "code",
   "execution_count": 4,
   "id": "92148d48",
   "metadata": {},
   "outputs": [
    {
     "name": "stdout",
     "output_type": "stream",
     "text": [
      "Evaluating siglip2_other on test set...\n"
     ]
    },
    {
     "data": {
      "application/vnd.jupyter.widget-view+json": {
       "model_id": "2966cf464cbf40d6b17e3e57520ac57c",
       "version_major": 2,
       "version_minor": 0
      },
      "text/plain": [
       "Predicting siglip2_other:   0%|          | 0/8 [00:00<?, ?it/s]"
      ]
     },
     "metadata": {},
     "output_type": "display_data"
    },
    {
     "name": "stdout",
     "output_type": "stream",
     "text": [
      "Evaluating siglip2_full on test set...\n"
     ]
    },
    {
     "data": {
      "application/vnd.jupyter.widget-view+json": {
       "model_id": "fad5144bf4d4466299b80f5c48604e61",
       "version_major": 2,
       "version_minor": 0
      },
      "text/plain": [
       "Predicting siglip2_full:   0%|          | 0/8 [00:00<?, ?it/s]"
      ]
     },
     "metadata": {},
     "output_type": "display_data"
    },
    {
     "name": "stdout",
     "output_type": "stream",
     "text": [
      "Evaluating mobilenet_other on test set...\n"
     ]
    },
    {
     "data": {
      "application/vnd.jupyter.widget-view+json": {
       "model_id": "cf0691c31c4c435893e1c76a02edad0a",
       "version_major": 2,
       "version_minor": 0
      },
      "text/plain": [
       "Predicting mobilenet_other:   0%|          | 0/8 [00:00<?, ?it/s]"
      ]
     },
     "metadata": {},
     "output_type": "display_data"
    },
    {
     "name": "stdout",
     "output_type": "stream",
     "text": [
      "Evaluating mobilenet_full on test set...\n"
     ]
    },
    {
     "data": {
      "application/vnd.jupyter.widget-view+json": {
       "model_id": "1175dcd1b94947fc84a0d7647176baf2",
       "version_major": 2,
       "version_minor": 0
      },
      "text/plain": [
       "Predicting mobilenet_full:   0%|          | 0/8 [00:00<?, ?it/s]"
      ]
     },
     "metadata": {},
     "output_type": "display_data"
    }
   ],
   "source": [
    "from torch.utils.data import DataLoader\n",
    "from safetensors.torch import load_file\n",
    "\n",
    "BATCH_SIZE = 64\n",
    "results = {}\n",
    "\n",
    "for model_key, model_path in MODELS.items():\n",
    "    try:\n",
    "        if \"mobilenet\" in model_key:\n",
    "            model = AutoModelForImageClassification.from_pretrained(\n",
    "                model_path,  # num_labels=2, ignore_mismatched_sizes=True\n",
    "            )\n",
    "        elif \"siglip2\" in model_key:\n",
    "            model = SiglipForImageClassification.from_pretrained(\n",
    "                model_path,  # num_labels=2, ignore_mismatched_sizes=True\n",
    "            )\n",
    "        else:\n",
    "            print(f\"Unknown model type for {model_key}\")\n",
    "            continue\n",
    "\n",
    "        weights_path = os.path.join(model_path, \"model.safetensors\")\n",
    "        if not os.path.exists(weights_path):\n",
    "            print(\n",
    "                f\"Error loading model {model_key}: No such file or directory: '{weights_path}'\"\n",
    "            )\n",
    "            continue\n",
    "\n",
    "        state_dict = load_file(weights_path)\n",
    "        model.load_state_dict(state_dict)\n",
    "\n",
    "        model = model.to(device)\n",
    "        model.eval()\n",
    "\n",
    "        loader = DataLoader(test_ds, batch_size=BATCH_SIZE, shuffle=False)\n",
    "        print(f\"Evaluating {model_key} on test set...\")\n",
    "        all_preds = []\n",
    "        with torch.no_grad():\n",
    "            for imgs, _ in tqdm(loader, desc=f\"Predicting {model_key}\"):\n",
    "                imgs = imgs.to(device)\n",
    "                logits = model(imgs).logits\n",
    "                preds = torch.argmax(logits, dim=1).cpu().tolist()\n",
    "                all_preds.extend(preds)\n",
    "\n",
    "        results[model_key] = all_preds\n",
    "        del model\n",
    "        torch.cuda.empty_cache()\n",
    "\n",
    "    except Exception as e:\n",
    "        print(f\"Error loading model {model_key}: {str(e)}\")\n",
    "        continue"
   ]
  },
  {
   "cell_type": "code",
   "execution_count": 5,
   "id": "35a82e4c",
   "metadata": {},
   "outputs": [
    {
     "name": "stdout",
     "output_type": "stream",
     "text": [
      "Value counts for siglip2_other:\n",
      "siglip2_other\n",
      "1    360\n",
      "0    140\n",
      "Name: count, dtype: int64\n",
      "\n",
      "Value counts for siglip2_full:\n",
      "siglip2_full\n",
      "1    265\n",
      "0    235\n",
      "Name: count, dtype: int64\n",
      "\n",
      "Value counts for mobilenet_other:\n",
      "mobilenet_other\n",
      "0    264\n",
      "1    236\n",
      "Name: count, dtype: int64\n",
      "\n",
      "Value counts for mobilenet_full:\n",
      "mobilenet_full\n",
      "1    302\n",
      "0    198\n",
      "Name: count, dtype: int64\n",
      "\n"
     ]
    }
   ],
   "source": [
    "df = pd.DataFrame(results)\n",
    "\n",
    "for col in df.columns:\n",
    "    print(f\"Value counts for {col}:\")\n",
    "    print(df[col].value_counts())\n",
    "    print()"
   ]
  },
  {
   "cell_type": "code",
   "execution_count": 9,
   "id": "4da802a5",
   "metadata": {},
   "outputs": [
    {
     "name": "stdout",
     "output_type": "stream",
     "text": [
      "Number of rows with different predictions across models: 250\n"
     ]
    },
    {
     "data": {
      "text/html": [
       "<div>\n",
       "<style scoped>\n",
       "    .dataframe tbody tr th:only-of-type {\n",
       "        vertical-align: middle;\n",
       "    }\n",
       "\n",
       "    .dataframe tbody tr th {\n",
       "        vertical-align: top;\n",
       "    }\n",
       "\n",
       "    .dataframe thead th {\n",
       "        text-align: right;\n",
       "    }\n",
       "</style>\n",
       "<table border=\"1\" class=\"dataframe\">\n",
       "  <thead>\n",
       "    <tr style=\"text-align: right;\">\n",
       "      <th></th>\n",
       "      <th></th>\n",
       "      <th></th>\n",
       "      <th></th>\n",
       "      <th>count</th>\n",
       "    </tr>\n",
       "    <tr>\n",
       "      <th>siglip2_other</th>\n",
       "      <th>siglip2_full</th>\n",
       "      <th>mobilenet_other</th>\n",
       "      <th>mobilenet_full</th>\n",
       "      <th></th>\n",
       "    </tr>\n",
       "  </thead>\n",
       "  <tbody>\n",
       "    <tr>\n",
       "      <th rowspan=\"7\" valign=\"top\">1</th>\n",
       "      <th rowspan=\"3\" valign=\"top\">1</th>\n",
       "      <th>1</th>\n",
       "      <th>0</th>\n",
       "      <td>3</td>\n",
       "    </tr>\n",
       "    <tr>\n",
       "      <th rowspan=\"2\" valign=\"top\">0</th>\n",
       "      <th>1</th>\n",
       "      <td>71</td>\n",
       "    </tr>\n",
       "    <tr>\n",
       "      <th>0</th>\n",
       "      <td>11</td>\n",
       "    </tr>\n",
       "    <tr>\n",
       "      <th rowspan=\"4\" valign=\"top\">0</th>\n",
       "      <th rowspan=\"2\" valign=\"top\">1</th>\n",
       "      <th>1</th>\n",
       "      <td>19</td>\n",
       "    </tr>\n",
       "    <tr>\n",
       "      <th>0</th>\n",
       "      <td>21</td>\n",
       "    </tr>\n",
       "    <tr>\n",
       "      <th rowspan=\"2\" valign=\"top\">0</th>\n",
       "      <th>1</th>\n",
       "      <td>27</td>\n",
       "    </tr>\n",
       "    <tr>\n",
       "      <th>0</th>\n",
       "      <td>49</td>\n",
       "    </tr>\n",
       "    <tr>\n",
       "      <th rowspan=\"7\" valign=\"top\">0</th>\n",
       "      <th rowspan=\"4\" valign=\"top\">1</th>\n",
       "      <th rowspan=\"2\" valign=\"top\">1</th>\n",
       "      <th>1</th>\n",
       "      <td>11</td>\n",
       "    </tr>\n",
       "    <tr>\n",
       "      <th>0</th>\n",
       "      <td>2</td>\n",
       "    </tr>\n",
       "    <tr>\n",
       "      <th rowspan=\"2\" valign=\"top\">0</th>\n",
       "      <th>1</th>\n",
       "      <td>5</td>\n",
       "    </tr>\n",
       "    <tr>\n",
       "      <th>0</th>\n",
       "      <td>3</td>\n",
       "    </tr>\n",
       "    <tr>\n",
       "      <th rowspan=\"3\" valign=\"top\">0</th>\n",
       "      <th rowspan=\"2\" valign=\"top\">1</th>\n",
       "      <th>1</th>\n",
       "      <td>3</td>\n",
       "    </tr>\n",
       "    <tr>\n",
       "      <th>0</th>\n",
       "      <td>18</td>\n",
       "    </tr>\n",
       "    <tr>\n",
       "      <th>0</th>\n",
       "      <th>1</th>\n",
       "      <td>7</td>\n",
       "    </tr>\n",
       "  </tbody>\n",
       "</table>\n",
       "</div>"
      ],
      "text/plain": [
       "                                                           count\n",
       "siglip2_other siglip2_full mobilenet_other mobilenet_full       \n",
       "1             1            1               0                   3\n",
       "                           0               1                  71\n",
       "                                           0                  11\n",
       "              0            1               1                  19\n",
       "                                           0                  21\n",
       "                           0               1                  27\n",
       "                                           0                  49\n",
       "0             1            1               1                  11\n",
       "                                           0                   2\n",
       "                           0               1                   5\n",
       "                                           0                   3\n",
       "              0            1               1                   3\n",
       "                                           0                  18\n",
       "                           0               1                   7"
      ]
     },
     "execution_count": 9,
     "metadata": {},
     "output_type": "execute_result"
    }
   ],
   "source": [
    "# in half cases they do not agree\n",
    "print(\n",
    "    f\"Number of rows with different predictions across models: {len(df[df.nunique(axis=1) > 1])}\"\n",
    ")\n",
    "\n",
    "pd.DataFrame(df[df.nunique(axis=1) > 1].value_counts().sort_index(ascending=False))"
   ]
  },
  {
   "cell_type": "code",
   "execution_count": 7,
   "id": "928215fb",
   "metadata": {},
   "outputs": [
    {
     "data": {
      "text/html": [
       "<div>\n",
       "<style scoped>\n",
       "    .dataframe tbody tr th:only-of-type {\n",
       "        vertical-align: middle;\n",
       "    }\n",
       "\n",
       "    .dataframe tbody tr th {\n",
       "        vertical-align: top;\n",
       "    }\n",
       "\n",
       "    .dataframe thead th {\n",
       "        text-align: right;\n",
       "    }\n",
       "</style>\n",
       "<table border=\"1\" class=\"dataframe\">\n",
       "  <thead>\n",
       "    <tr style=\"text-align: right;\">\n",
       "      <th></th>\n",
       "      <th></th>\n",
       "      <th>count</th>\n",
       "    </tr>\n",
       "    <tr>\n",
       "      <th>siglip2_full</th>\n",
       "      <th>mobilenet_full</th>\n",
       "      <th></th>\n",
       "    </tr>\n",
       "  </thead>\n",
       "  <tbody>\n",
       "    <tr>\n",
       "      <th>1</th>\n",
       "      <th>0</th>\n",
       "      <td>19</td>\n",
       "    </tr>\n",
       "    <tr>\n",
       "      <th>0</th>\n",
       "      <th>1</th>\n",
       "      <td>56</td>\n",
       "    </tr>\n",
       "  </tbody>\n",
       "</table>\n",
       "</div>"
      ],
      "text/plain": [
       "                             count\n",
       "siglip2_full mobilenet_full       \n",
       "1            0                  19\n",
       "0            1                  56"
      ]
     },
     "execution_count": 7,
     "metadata": {},
     "output_type": "execute_result"
    }
   ],
   "source": [
    "full_df = df[[\"siglip2_full\", \"mobilenet_full\"]]\n",
    "\n",
    "pd.DataFrame(\n",
    "    full_df[full_df.nunique(axis=1) > 1].value_counts().sort_index(ascending=False)\n",
    ")"
   ]
  },
  {
   "cell_type": "markdown",
   "id": "15011235",
   "metadata": {},
   "source": [
    "As mobilenet full had best tests results, return its results as the truth."
   ]
  },
  {
   "cell_type": "code",
   "execution_count": 8,
   "id": "5e47789c",
   "metadata": {},
   "outputs": [],
   "source": [
    "df[\"mobilenet_full\"].to_csv(\"results.txt\", index_label=\"ID\")"
   ]
  }
 ],
 "metadata": {
  "kernelspec": {
   "display_name": "deep",
   "language": "python",
   "name": "python3"
  },
  "language_info": {
   "codemirror_mode": {
    "name": "ipython",
    "version": 3
   },
   "file_extension": ".py",
   "mimetype": "text/x-python",
   "name": "python",
   "nbconvert_exporter": "python",
   "pygments_lexer": "ipython3",
   "version": "3.12.9"
  }
 },
 "nbformat": 4,
 "nbformat_minor": 5
}
